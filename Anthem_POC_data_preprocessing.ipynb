{
 "cells": [
  {
   "cell_type": "code",
   "execution_count": 7,
   "metadata": {},
   "outputs": [],
   "source": [
    "import json\n",
    "from bs4 import BeautifulSoup\n",
    "import nltk\n",
    "from string import punctuation\n",
    "from nltk.tokenize import word_tokenize, sent_tokenize\n",
    "from nltk.corpus import stopwords"
   ]
  },
  {
   "cell_type": "code",
   "execution_count": 8,
   "metadata": {},
   "outputs": [],
   "source": [
    "def html_data_parsing():\n",
    "    data_dict = {}\n",
    "    html_file_name_list = ['Access_Service_Benefit', 'Appeals_and_Complaints', 'Benifit_Coverage', 'Claim', 'Eligibility', 'General_policy', 'Not_Covered', 'Payment', 'Termination_Nonrenewal_Continuation']\n",
    "    for name_index in range(0, len(html_file_name_list)):\n",
    "        file = open('Anthem_html/'+html_file_name_list[name_index]+\".html\", \"r\")\n",
    "        html_page = file.read()\n",
    "        soup = BeautifulSoup(html_page,'lxml')\n",
    "        text = ' '.join(map(lambda p:p.text,soup.find_all('p')))\n",
    "        text = text.replace (\"\\n\",\" \").lower()\n",
    "        data_dict[html_file_name_list[name_index]] = create_data(text)\n",
    "    return data_dict"
   ]
  },
  {
   "cell_type": "code",
   "execution_count": 9,
   "metadata": {},
   "outputs": [],
   "source": [
    "def create_data(text):\n",
    "    total_data = []\n",
    "    word_list = []\n",
    "    for setence in sent_tokenize(text):\n",
    "        for word in word_tokenize(setence):\n",
    "            if word.isalpha() and not word.isdigit() and word not in (list(punctuation) + list(stopwords.words('english'))):\n",
    "                word_list.append(word)\n",
    "        total_data.append(word_list)\n",
    "        word_list = []\n",
    "    return total_data"
   ]
  },
  {
   "cell_type": "code",
   "execution_count": 10,
   "metadata": {},
   "outputs": [],
   "source": [
    "f = open('Anthem_data.json','w')\n",
    "f.write(str(html_data_parsing()))\n",
    "f.close()"
   ]
  }
 ],
 "metadata": {
  "kernelspec": {
   "display_name": "Python 3",
   "language": "python",
   "name": "python3"
  },
  "language_info": {
   "codemirror_mode": {
    "name": "ipython",
    "version": 3
   },
   "file_extension": ".py",
   "mimetype": "text/x-python",
   "name": "python",
   "nbconvert_exporter": "python",
   "pygments_lexer": "ipython3",
   "version": "3.6.4"
  }
 },
 "nbformat": 4,
 "nbformat_minor": 2
}
